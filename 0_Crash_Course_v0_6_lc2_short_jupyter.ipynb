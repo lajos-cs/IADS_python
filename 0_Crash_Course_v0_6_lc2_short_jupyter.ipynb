{
  "cells": [
    {
      "cell_type": "markdown",
      "metadata": {
        "id": "view-in-github",
        "colab_type": "text"
      },
      "source": [
        "<a href=\"https://colab.research.google.com/github/lajos-cs/IADS_python/blob/2ndDAY/0_Crash_Course_v0_6_lc2_short_jupyter.ipynb\" target=\"_parent\"><img src=\"https://colab.research.google.com/assets/colab-badge.svg\" alt=\"Open In Colab\"/></a>"
      ]
    },
    {
      "cell_type": "markdown",
      "metadata": {
        "id": "91ftQtZcE5U0"
      },
      "source": [
        "# A (Shorter) Crash Course in Python for Scientists\n",
        "\n",
        "Heavily based on the original [Notebook (v6.0)](https://gist.githubusercontent.com/rpmuller/5920182/raw/97620296ff6c01d1fc9f5b2e67006fc239bf302c/Crash%2520Course%2520v0.5.ipynb.json) by \n",
        "[Rick Muller](http://www.cs.sandia.gov/~rmuller/), Sandia National Laboratories\n",
        "\n",
        "Adapted and reduced by Luca Citi\n",
        "\n",
        "This work is licensed under a [Creative Commons Attribution-ShareAlike 3.0 Unported License](http://creativecommons.org/licenses/by-sa/3.0/deed.en_US)."
      ]
    },
    {
      "cell_type": "markdown",
      "metadata": {
        "id": "proz1olDE5U4"
      },
      "source": [
        "## What You Need to Install\n",
        "\n",
        "These notes assume you have a Python distribution that includes:\n",
        "\n",
        "* [Python](http://www.python.org) version 3.x;\n",
        "* [Numpy](http://www.numpy.org), the core numerical extensions for linear algebra and multidimensional arrays;\n",
        "* [Scipy](http://www.scipy.org), additional libraries for scientific programming;\n",
        "* [Matplotlib](http://matplotlib.sf.net), excellent plotting and graphing libraries;\n",
        "* [Jupyter](http://jupyter.org), with the additional libraries required for the notebook interface.\n"
      ]
    },
    {
      "cell_type": "markdown",
      "metadata": {
        "id": "n-VjjChlE5U5"
      },
      "source": [
        "# I. Python Overview\n",
        "\n",
        "The lessons that follow make use of the Jupyter (formerly IPython) notebooks.\n",
        "\n",
        "Briefly, notebooks have code cells (that are generally followed by result cells) and text cells. The text cells are the stuff that you're reading now. The code cells start with \"In []:\" with some number generally in the brackets.\n",
        "\n",
        "**If you put your cursor in the code cell and hit Shift-Enter, the code will run in the Python interpreter and the result will print out in the output cell.**\n",
        "\n",
        "You can then change things around and see whether you understand what's going on. If you need to know more, see the [Jupyter notebook documentation](http://jupyter.org/documentation.html)."
      ]
    },
    {
      "cell_type": "markdown",
      "metadata": {
        "id": "GfJTUPEWE5U6"
      },
      "source": [
        "\n",
        "\n",
        "## Using Python as a Calculator"
      ]
    },
    {
      "cell_type": "markdown",
      "metadata": {
        "id": "Ce7b2GedE5U7"
      },
      "source": [
        "Many of the things I used to use a calculator for, I now use Python for:"
      ]
    },
    {
      "cell_type": "code",
      "execution_count": null,
      "metadata": {
        "id": "rXU8IxWME5U8"
      },
      "outputs": [],
      "source": [
        "2+2"
      ]
    },
    {
      "cell_type": "code",
      "execution_count": null,
      "metadata": {
        "id": "zsA5msqbE5U-"
      },
      "outputs": [],
      "source": [
        "(50 - 5 * 6) / 4"
      ]
    },
    {
      "cell_type": "markdown",
      "metadata": {
        "id": "FqIKMgocE5VA"
      },
      "source": [
        "In Python 3, division between integers returns a float (as you would obtain on a handheld calculator). To obtain the integer division, use a double slash:"
      ]
    },
    {
      "cell_type": "code",
      "execution_count": null,
      "metadata": {
        "id": "yFXBBfGwE5VC"
      },
      "outputs": [],
      "source": [
        "print(7 / 3)\n",
        "print(7 // 3)"
      ]
    },
    {
      "cell_type": "markdown",
      "metadata": {
        "id": "KNGgCpH8E5VE"
      },
      "source": [
        "You can define variables using the equals (=) sign:"
      ]
    },
    {
      "cell_type": "code",
      "execution_count": null,
      "metadata": {
        "id": "3oIbN_ddE5VF"
      },
      "outputs": [],
      "source": [
        "width = 20\n",
        "length = 30\n",
        "area = length*width\n",
        "area"
      ]
    },
    {
      "cell_type": "markdown",
      "metadata": {
        "id": "wSkxfIaRE5VG"
      },
      "source": [
        "## Strings\n",
        "Strings are lists of printable characters, and can be defined using either single quotes"
      ]
    },
    {
      "cell_type": "code",
      "execution_count": null,
      "metadata": {
        "id": "zdW6jixBE5VH"
      },
      "outputs": [],
      "source": [
        "'Hello, World!'"
      ]
    },
    {
      "cell_type": "markdown",
      "metadata": {
        "id": "KA7gA9c9E5VI"
      },
      "source": [
        "or double quotes"
      ]
    },
    {
      "cell_type": "code",
      "execution_count": null,
      "metadata": {
        "id": "gZGXREGXE5VJ"
      },
      "outputs": [],
      "source": [
        "greeting = \"Hello, World!\""
      ]
    },
    {
      "cell_type": "markdown",
      "metadata": {
        "id": "2shf4G7pE5VJ"
      },
      "source": [
        "The **print** function is often used for printing character strings and other objects:"
      ]
    },
    {
      "cell_type": "code",
      "execution_count": null,
      "metadata": {
        "id": "TysOxjF_E5VK"
      },
      "outputs": [],
      "source": [
        "print(greeting, \"The area is\", area)"
      ]
    },
    {
      "cell_type": "markdown",
      "metadata": {
        "id": "W-EdudsPE5VK"
      },
      "source": [
        "## Lists\n",
        "Very often in a programming language, one wants to keep a group of similar items together. Python does this using a data type called **lists**."
      ]
    },
    {
      "cell_type": "code",
      "execution_count": null,
      "metadata": {
        "id": "DippiCmEE5VL"
      },
      "outputs": [],
      "source": [
        "days_of_the_week = [\"Sunday\",\"Monday\",\"Tuesday\",\"Wednesday\",\"Thursday\",\"Friday\",\"Saturday\"]"
      ]
    },
    {
      "cell_type": "markdown",
      "metadata": {
        "id": "p2ElV1VpE5VL"
      },
      "source": [
        "You can access members of the list using the **index** of that item:"
      ]
    },
    {
      "cell_type": "code",
      "execution_count": null,
      "metadata": {
        "id": "vTKat6TaE5VL"
      },
      "outputs": [],
      "source": [
        "days_of_the_week[2]"
      ]
    },
    {
      "cell_type": "markdown",
      "metadata": {
        "id": "Ymx1QP8YE5VM"
      },
      "source": [
        "Python lists, like C, but unlike Fortran, use 0 as the index of the first element of a list. Thus, in this example, the 0 element is \"Sunday\", 1 is \"Monday\", and so on. If you need to access the *n*th element from the end of the list, you can use a negative index. For example, the -1 element of a list is the last element:"
      ]
    },
    {
      "cell_type": "code",
      "execution_count": null,
      "metadata": {
        "id": "Qlc5P1RHE5VM"
      },
      "outputs": [],
      "source": [
        "days_of_the_week[-1]"
      ]
    },
    {
      "cell_type": "markdown",
      "metadata": {
        "id": "zoJWtz9iE5VN"
      },
      "source": [
        "You can add additional items to the list using the .append() command:"
      ]
    },
    {
      "cell_type": "code",
      "execution_count": null,
      "metadata": {
        "id": "JfNTPBTAE5VN"
      },
      "outputs": [],
      "source": [
        "languages = [\"Fortran\",\"C\",\"C++\"]\n",
        "languages.append(\"Python\")\n",
        "print(languages)"
      ]
    },
    {
      "cell_type": "markdown",
      "metadata": {
        "id": "gRlc5fGGE5VN"
      },
      "source": [
        "The **range()** command is a convenient way to make sequential lists of numbers:"
      ]
    },
    {
      "cell_type": "code",
      "execution_count": null,
      "metadata": {
        "id": "mhpYTLogE5VN"
      },
      "outputs": [],
      "source": [
        "list(range(10))"
      ]
    },
    {
      "cell_type": "markdown",
      "metadata": {
        "id": "FzCkTbpoE5VO"
      },
      "source": [
        "Note that range(n) starts at 0 and gives the sequential list of integers less than n. If you want to start at a different number, use range(start,stop)"
      ]
    },
    {
      "cell_type": "code",
      "execution_count": null,
      "metadata": {
        "id": "NJf1_okBE5VO"
      },
      "outputs": [],
      "source": [
        "list(range(2,8))"
      ]
    },
    {
      "cell_type": "markdown",
      "metadata": {
        "id": "-D7qB01cE5VO"
      },
      "source": [
        "Lists do not have to hold the same data type. For example,"
      ]
    },
    {
      "cell_type": "code",
      "execution_count": null,
      "metadata": {
        "id": "SuuKzIcXE5VO"
      },
      "outputs": [],
      "source": [
        "a_list = [\"Today\",7,99.3,\"\"]"
      ]
    },
    {
      "cell_type": "code",
      "execution_count": null,
      "metadata": {
        "id": "IipRPZajE5VP"
      },
      "outputs": [],
      "source": [
        "help(len)"
      ]
    },
    {
      "cell_type": "code",
      "execution_count": null,
      "metadata": {
        "id": "DlMOhI88E5VP"
      },
      "outputs": [],
      "source": [
        "len(a_list)"
      ]
    },
    {
      "cell_type": "markdown",
      "metadata": {
        "id": "uiLQenpfE5VP"
      },
      "source": [
        "## Iteration, Indentation, and Blocks\n",
        "One of the most useful things you can do with lists is to *iterate* through them, i.e. to go through each element one at a time. To do this in Python, we use the **for** statement:"
      ]
    },
    {
      "cell_type": "code",
      "execution_count": null,
      "metadata": {
        "id": "QwWeQBsJE5VP"
      },
      "outputs": [],
      "source": [
        "for day in days_of_the_week:\n",
        "    print(day)"
      ]
    },
    {
      "cell_type": "markdown",
      "metadata": {
        "id": "CFNNkkohE5VQ"
      },
      "source": [
        "This code snippet goes through each element of the list called **days_of_the_week** and assigns it to the variable **day**. It then executes everything in the indented block (in this case only one line of code, the print statement) using those variable assignments. When the program has gone through every element of the list, it exists the block.\n",
        "\n",
        "(Almost) every programming language defines blocks of code in some way. In Fortran, one uses END statements (ENDDO, ENDIF, etc.) to define code blocks. In C, C++, and Perl, one uses curly braces {} to define these blocks.\n",
        "\n",
        "**Python uses a colon (\":\"), followed by indentation level to define code blocks.** Everything at a higher level of indentation is taken to be in the same block. In the above example the block was only a single line, but we could have had longer blocks as well:"
      ]
    },
    {
      "cell_type": "code",
      "execution_count": null,
      "metadata": {
        "id": "Z8TSLDGxE5VQ"
      },
      "outputs": [],
      "source": [
        "for day in days_of_the_week:\n",
        "    statement = \"Today is \" + day\n",
        "    print(statement)"
      ]
    },
    {
      "cell_type": "markdown",
      "metadata": {
        "id": "ol0AU230E5VQ"
      },
      "source": [
        "The **range()** command is particularly useful with the **for** statement to execute loops of a specified length:"
      ]
    },
    {
      "cell_type": "code",
      "execution_count": null,
      "metadata": {
        "id": "fa6QEHD7E5VR"
      },
      "outputs": [],
      "source": [
        "for i in range(10):\n",
        "    print(\"The square of \", i, \" is \", i*i)"
      ]
    },
    {
      "cell_type": "markdown",
      "metadata": {
        "id": "iRr1Lo5fE5VR"
      },
      "source": [
        "## Slicing\n",
        "Lists and strings have something in common that you might not suspect: they can both be treated as sequences. You already know that you can iterate through the elements of a list."
      ]
    },
    {
      "cell_type": "markdown",
      "metadata": {
        "id": "l2TX-kZJE5VR"
      },
      "source": [
        "The *slicing* operation can be used on any sequence. We already know that we can use *indexing* to get the first element of a list:"
      ]
    },
    {
      "cell_type": "code",
      "execution_count": null,
      "metadata": {
        "id": "9NOMQ9KaE5VR"
      },
      "outputs": [],
      "source": [
        "days_of_the_week[0]"
      ]
    },
    {
      "cell_type": "markdown",
      "metadata": {
        "id": "6zPwnjV9E5VS"
      },
      "source": [
        "If we want the list containing the first two elements of a list, we can do this via"
      ]
    },
    {
      "cell_type": "code",
      "execution_count": null,
      "metadata": {
        "id": "7slEmmH3E5VS"
      },
      "outputs": [],
      "source": [
        "days_of_the_week[0:2]"
      ]
    },
    {
      "cell_type": "markdown",
      "metadata": {
        "id": "7KZHZKwAE5VS"
      },
      "source": [
        "or simply"
      ]
    },
    {
      "cell_type": "code",
      "execution_count": null,
      "metadata": {
        "id": "St_xyLZYE5VS"
      },
      "outputs": [],
      "source": [
        "days_of_the_week[:2]"
      ]
    },
    {
      "cell_type": "markdown",
      "metadata": {
        "id": "up8bfQcWE5VS"
      },
      "source": [
        "If we want the last items of the list, we can do this with negative slicing:"
      ]
    },
    {
      "cell_type": "code",
      "execution_count": null,
      "metadata": {
        "id": "dItl-rIjE5VS"
      },
      "outputs": [],
      "source": [
        "days_of_the_week[-2:]"
      ]
    },
    {
      "cell_type": "markdown",
      "metadata": {
        "id": "2a-KzbLQE5VT"
      },
      "source": [
        "which is somewhat logically consistent with negative indices accessing the last elements of the list.\n",
        "\n",
        "You can do:"
      ]
    },
    {
      "cell_type": "markdown",
      "metadata": {
        "id": "8RW1nU8IE5VT"
      },
      "source": [
        "## Booleans and Truth Testing\n",
        "We have now learned a few data types. We have integers and floating point numbers, strings, and lists to contain them. We have also learned about lists, a container that can hold any data type. We have learned to print things out, and to iterate over items in lists. We will now learn about **boolean** variables that can be either True or False.\n",
        "\n",
        "We invariably need some concept of *conditions* in programming to control branching behavior, to allow a program to react differently to different situations. If it's Monday, I'll go to work, but if it's Sunday, I'll sleep in. To do this in Python, we use a combination of **boolean** variables, which evaluate to either True or False, and **if** statements, that control branching based on boolean values."
      ]
    },
    {
      "cell_type": "markdown",
      "metadata": {
        "id": "rT8oxw9AE5VT"
      },
      "source": [
        "For example:"
      ]
    },
    {
      "cell_type": "code",
      "execution_count": null,
      "metadata": {
        "id": "qF5pj1pmE5VT"
      },
      "outputs": [],
      "source": [
        "day = \"Sunday\" # single equal -> assignment\n",
        "\n",
        "if day == \"Sunday\": # double equal -> comparison\n",
        "    print(\"Sleep in\")\n",
        "elif day == \"Saturday\":\n",
        "    print(\"Do chores\")\n",
        "else:\n",
        "    print(\"Go to work\")"
      ]
    },
    {
      "cell_type": "code",
      "execution_count": null,
      "metadata": {
        "id": "VYnwOTYbE5VT"
      },
      "outputs": [],
      "source": [
        "50 == 2*25"
      ]
    },
    {
      "cell_type": "code",
      "execution_count": null,
      "metadata": {
        "scrolled": true,
        "id": "fij0QzOdE5VU"
      },
      "outputs": [],
      "source": [
        "3 < 3.14159"
      ]
    },
    {
      "cell_type": "code",
      "execution_count": null,
      "metadata": {
        "id": "o4ha1sNDE5VU"
      },
      "outputs": [],
      "source": [
        "1 == 1.0"
      ]
    },
    {
      "cell_type": "code",
      "execution_count": null,
      "metadata": {
        "id": "FFWZLxbTE5VU"
      },
      "outputs": [],
      "source": [
        "1 != 0"
      ]
    },
    {
      "cell_type": "code",
      "execution_count": null,
      "metadata": {
        "id": "mY4TlbKvE5VU"
      },
      "outputs": [],
      "source": [
        "1 <= 2"
      ]
    },
    {
      "cell_type": "code",
      "execution_count": null,
      "metadata": {
        "id": "WwPqx12UE5VU"
      },
      "outputs": [],
      "source": [
        "1 >= 1"
      ]
    },
    {
      "cell_type": "markdown",
      "metadata": {
        "id": "SuwDUNszE5VV"
      },
      "source": [
        "## Functions\n",
        "We can define a function with the **def** statement in Python:"
      ]
    },
    {
      "cell_type": "code",
      "execution_count": null,
      "metadata": {
        "id": "I9qBDwqlE5VV"
      },
      "outputs": [],
      "source": [
        "def square_loss(y, target):\n",
        "    \"Return the value of the square loss\"\n",
        "    return (y - target)**2"
      ]
    },
    {
      "cell_type": "markdown",
      "metadata": {
        "id": "EUx9_5JRE5VV"
      },
      "source": [
        "We can now call **square_loss()** for different arguments:"
      ]
    },
    {
      "cell_type": "code",
      "execution_count": null,
      "metadata": {
        "id": "Jz0zv-fxE5VV"
      },
      "outputs": [],
      "source": [
        "square_loss(2, 3)"
      ]
    },
    {
      "cell_type": "code",
      "execution_count": null,
      "metadata": {
        "id": "d4aTdMGxE5VV"
      },
      "outputs": [],
      "source": [
        "square_loss(-2, 3)"
      ]
    },
    {
      "cell_type": "markdown",
      "metadata": {
        "id": "urmhmhqHE5VV"
      },
      "source": [
        "## Dictionaries\n",
        "**Dictionaries** are an object called \"mappings\" or \"associative arrays\" in other languages. Whereas a list associates an integer index with a set of objects:"
      ]
    },
    {
      "cell_type": "markdown",
      "metadata": {
        "id": "xLdyxf2kE5VW"
      },
      "source": [
        "The index in a dictionary is called the *key*, and the corresponding dictionary entry is the *value*. A dictionary can use (almost) anything as the key. Whereas lists are formed with square brackets [], dictionaries use curly brackets {}:"
      ]
    },
    {
      "cell_type": "markdown",
      "metadata": {
        "id": "28WLFk8UE5VW"
      },
      "source": [
        "There's also a convenient way to create dictionaries without having to quote the keys."
      ]
    },
    {
      "cell_type": "code",
      "execution_count": null,
      "metadata": {
        "id": "lwGHSCuBE5VW"
      },
      "outputs": [],
      "source": [
        "ages = {\"Rick\": 46, \"Bob\": 86, \"Fred\": 21}\n",
        "print(\"Rick's age is \",ages[\"Rick\"])"
      ]
    },
    {
      "cell_type": "code",
      "execution_count": null,
      "metadata": {
        "id": "LnE3x9QpE5VW"
      },
      "outputs": [],
      "source": [
        "dict(Rick=46,Bob=86,Fred=20)"
      ]
    },
    {
      "cell_type": "markdown",
      "metadata": {
        "id": "ZaL-tSirE5VW"
      },
      "source": [
        "# II. Numpy and Scipy\n",
        "\n",
        "[Numpy](http://numpy.org) contains core routines for doing fast vector, matrix, and linear algebra-type operations in Python. [Scipy](http://scipy) contains additional routines for optimization, special functions, and so on. Both contain modules written in C and Fortran so that they're as fast as possible. Together, they give Python roughly the same capability that the [Matlab](http://www.mathworks.com/products/matlab/) program offers. (In fact, if you're an experienced Matlab user, there a [guide to Numpy for Matlab users](http://www.scipy.org/NumPy_for_Matlab_Users) just for you.)\n",
        "\n",
        "## Making vectors and matrices\n",
        "Fundamental to both Numpy and Scipy is the ability to work with vectors and matrices. You can create vectors from lists using the **array** command:"
      ]
    },
    {
      "cell_type": "code",
      "execution_count": null,
      "metadata": {
        "id": "99jmroWcE5VW"
      },
      "outputs": [],
      "source": [
        "import numpy as np"
      ]
    },
    {
      "cell_type": "code",
      "execution_count": null,
      "metadata": {
        "id": "FFEyPSxtE5VX"
      },
      "outputs": [],
      "source": [
        "np.array([1,2,3,4,5,6])"
      ]
    },
    {
      "cell_type": "markdown",
      "metadata": {
        "id": "wFWbs69EE5VX"
      },
      "source": [
        "You can pass in a second argument to **array** that gives the numeric type. There are a number of types [listed here](http://docs.scipy.org/doc/numpy/user/basics.types.html) that your matrix can be. Some of these are aliased to single character codes. The most common ones are 'd' (double precision floating point number), 'D' (double precision complex number), and 'i' (int32). Thus,"
      ]
    },
    {
      "cell_type": "markdown",
      "metadata": {
        "id": "Cmr7_meYE5VX"
      },
      "source": [
        "To build matrices, you can either use the array command with lists of lists:"
      ]
    },
    {
      "cell_type": "code",
      "execution_count": null,
      "metadata": {
        "id": "2BihLMBgE5VX"
      },
      "outputs": [],
      "source": [
        "np.array([[0,1],[1,0]], 'd')"
      ]
    },
    {
      "cell_type": "markdown",
      "metadata": {
        "id": "igbXuCGPE5VX"
      },
      "source": [
        "You can also form empty (zero) matrices of arbitrary shape (including vectors, which Numpy treats as vectors with one row), using the **zeros** command:"
      ]
    },
    {
      "cell_type": "code",
      "execution_count": null,
      "metadata": {
        "id": "9SYw3DM4E5VX"
      },
      "outputs": [],
      "source": [
        "np.zeros((3,3), 'd')"
      ]
    },
    {
      "cell_type": "code",
      "execution_count": null,
      "metadata": {
        "id": "kllFWEipE5VY"
      },
      "outputs": [],
      "source": [
        "np.ones((1,3), 'd')"
      ]
    },
    {
      "cell_type": "markdown",
      "metadata": {
        "id": "dCZjikjSE5VY"
      },
      "source": [
        "or column vectors:"
      ]
    },
    {
      "cell_type": "code",
      "execution_count": null,
      "metadata": {
        "id": "51IsYru_E5VY"
      },
      "outputs": [],
      "source": [
        "np.ones((3,1),'d')"
      ]
    },
    {
      "cell_type": "markdown",
      "metadata": {
        "id": "OTz06lKwE5VY"
      },
      "source": [
        "There's also an **eye** (identity matrix) command:"
      ]
    },
    {
      "cell_type": "code",
      "execution_count": null,
      "metadata": {
        "id": "ryix8mfME5VY"
      },
      "outputs": [],
      "source": [
        "np.eye(4)"
      ]
    },
    {
      "cell_type": "markdown",
      "metadata": {
        "id": "LanNQ_-FE5VY"
      },
      "source": [
        "## Linspace, matrix functions, and plotting\n",
        "The **linspace** command makes a linear array of points from a starting to an ending value. If you provide a third argument, it takes that as the number of points in the space."
      ]
    },
    {
      "cell_type": "code",
      "execution_count": null,
      "metadata": {
        "id": "XOU5d90IE5VZ"
      },
      "outputs": [],
      "source": [
        "x = np.linspace(0,4,41)\n",
        "x"
      ]
    },
    {
      "cell_type": "markdown",
      "metadata": {
        "id": "tAqVAMWbE5VZ"
      },
      "source": [
        "**linspace** is an easy way to make coordinates for plotting. Functions in the numpy library (all of which are imported into IPython notebook) can act on an entire vector (or even a matrix) of points at once. Thus,"
      ]
    },
    {
      "cell_type": "code",
      "execution_count": null,
      "metadata": {
        "id": "AQtG-zBHE5VZ"
      },
      "outputs": [],
      "source": [
        "y = np.sin(x)\n",
        "y"
      ]
    },
    {
      "cell_type": "markdown",
      "metadata": {
        "id": "9Km4su5CE5VZ"
      },
      "source": [
        "In conjunction with **matplotlib**, this is a nice way to plot things. (Depending on the browser and installation, replacing the *inline* option below with *notebook* allows interactive mode.)"
      ]
    },
    {
      "cell_type": "code",
      "execution_count": null,
      "metadata": {
        "id": "_-sJOYVtE5VZ"
      },
      "outputs": [],
      "source": [
        "#%matplotlib notebook\n",
        "%matplotlib inline\n",
        "import matplotlib.pyplot as plt"
      ]
    },
    {
      "cell_type": "code",
      "execution_count": null,
      "metadata": {
        "id": "0sDEQSfRE5Va"
      },
      "outputs": [],
      "source": [
        "plt.figure()\n",
        "plt.plot(x, y)\n",
        "plt.show()"
      ]
    },
    {
      "cell_type": "markdown",
      "metadata": {
        "id": "99frq-z7E5Va"
      },
      "source": [
        "We can also plot histograms:"
      ]
    },
    {
      "cell_type": "code",
      "execution_count": null,
      "metadata": {
        "id": "rgpWM5MDE5Va"
      },
      "outputs": [],
      "source": [
        "data = np.array([28, 16, 22,  8, 26, 21, 13, 15, 26, 16, 24,  1, 23, 15, 24, 5])\n",
        "\n",
        "plt.figure(figsize=(6,4))\n",
        "plt.hist(data, bins=np.linspace(start=0, stop=30, num=7))\n",
        "plt.show()"
      ]
    },
    {
      "cell_type": "markdown",
      "metadata": {
        "id": "JOzzpkqnE5Va"
      },
      "source": [
        "And scatter plots:"
      ]
    },
    {
      "cell_type": "code",
      "execution_count": null,
      "metadata": {
        "id": "xxN4fbHdE5Va"
      },
      "outputs": [],
      "source": [
        "plt.figure(figsize=(8,6))\n",
        "plt.scatter(data, x[:len(data)])\n",
        "plt.show()"
      ]
    },
    {
      "cell_type": "markdown",
      "metadata": {
        "id": "qW4D4Kr2E5Va"
      },
      "source": [
        "## Matrix operations\n",
        "Matrix objects act sensibly when multiplied by scalars:"
      ]
    },
    {
      "cell_type": "code",
      "execution_count": null,
      "metadata": {
        "id": "b7JmgwM8E5Vb"
      },
      "outputs": [],
      "source": [
        "0.125 * np.eye(3)"
      ]
    },
    {
      "cell_type": "markdown",
      "metadata": {
        "id": "3JjJXEDxE5Vb"
      },
      "source": [
        "as well as when you add two matrices together. (However, the matrices have to be the same shape.)"
      ]
    },
    {
      "cell_type": "code",
      "execution_count": null,
      "metadata": {
        "id": "zi31w1orE5Vb"
      },
      "outputs": [],
      "source": [
        "np.eye(2) + np.array([[1,1],[1,2]])"
      ]
    },
    {
      "cell_type": "markdown",
      "metadata": {
        "id": "_Efiaz5yE5Vb"
      },
      "source": [
        "Something that confuses Matlab users is that the times (*) operator give element-wise multiplication rather than matrix multiplication:"
      ]
    },
    {
      "cell_type": "code",
      "execution_count": null,
      "metadata": {
        "id": "IZcwwt4gE5Vb"
      },
      "outputs": [],
      "source": [
        "np.eye(2) * np.ones((2,2))"
      ]
    },
    {
      "cell_type": "markdown",
      "metadata": {
        "id": "2R929PhLE5Vb"
      },
      "source": [
        "To get matrix multiplication, you need the **dot** command:"
      ]
    },
    {
      "cell_type": "code",
      "execution_count": null,
      "metadata": {
        "id": "VJP-PAhsE5Vc"
      },
      "outputs": [],
      "source": [
        "np.dot(np.eye(2), np.ones((2,2)))"
      ]
    },
    {
      "cell_type": "markdown",
      "metadata": {
        "id": "I-o9rs7jE5Vc"
      },
      "source": [
        "In python 3, @ is a shortcut to perform matrix multiplications:"
      ]
    },
    {
      "cell_type": "code",
      "execution_count": null,
      "metadata": {
        "id": "yEbo3kO1E5Vc"
      },
      "outputs": [],
      "source": [
        "import numpy as np\n",
        "print(np.eye(2) @ np.ones((2,2)))"
      ]
    },
    {
      "cell_type": "markdown",
      "metadata": {
        "id": "UsnjIL-xE5Vc"
      },
      "source": [
        "There are **determinant**, **inverse**, and **transpose** functions that act as you would suppose. Transpose can be abbreviated with \".T\" at the end of a matrix object:"
      ]
    },
    {
      "cell_type": "code",
      "execution_count": null,
      "metadata": {
        "id": "HAW6_wOXE5Vc"
      },
      "outputs": [],
      "source": [
        "m = np.array([[1,2],[3,4]])\n",
        "m.T"
      ]
    },
    {
      "cell_type": "code",
      "execution_count": null,
      "metadata": {
        "id": "WznAg-Z9E5Vc"
      },
      "outputs": [],
      "source": [
        ""
      ]
    }
  ],
  "metadata": {
    "kernelspec": {
      "display_name": "Python 3",
      "language": "python",
      "name": "python3"
    },
    "language_info": {
      "codemirror_mode": {
        "name": "ipython",
        "version": 3
      },
      "file_extension": ".py",
      "mimetype": "text/x-python",
      "name": "python",
      "nbconvert_exporter": "python",
      "pygments_lexer": "ipython3",
      "version": "3.8.10"
    },
    "colab": {
      "name": "0 Crash Course v0.6.lc2-short-jupyter.ipynb",
      "provenance": [],
      "include_colab_link": true
    }
  },
  "nbformat": 4,
  "nbformat_minor": 0
}